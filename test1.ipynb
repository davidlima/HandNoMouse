{
 "cells": [
  {
   "cell_type": "code",
   "execution_count": null,
   "metadata": {},
   "outputs": [],
   "source": [
    "import PySimpleGUI as sg\n",
    "import time\n",
    "\n",
    "sg.SetOptions(margins=(0,0), element_padding=(0,0))\n",
    "\n",
    "layout = [[sg.Graph(canvas_size=(400,400), graph_bottom_left=(-400,-400), graph_top_right=(400, 400), background_color='red', key='graph')],]\n",
    "\n",
    "window = sg.Window('Zoom', layout, background_color='red', transparent_color='red', no_titlebar=True, alpha_channel=.5, grab_anywhere=True).Finalize()\n",
    "\n",
    "graph = window.FindElement('graph')\n",
    "circle = graph.DrawCircle((0,0), 150, fill_color='green',line_color='green')\n",
    "\n",
    "time.sleep(5)\n",
    "# while True:\n",
    "#     event, values = window.Read()\n",
    "#     if event is None:\n",
    "#         break"
   ]
  },
  {
   "cell_type": "code",
   "execution_count": null,
   "metadata": {},
   "outputs": [],
   "source": [
    "import PySimpleGUI as sg\n",
    "import time\n",
    "\n",
    "sg.SetOptions(margins=(0,0), element_padding=(0,0))\n",
    "\n",
    "layout = [[sg.Graph(canvas_size=(400,400), graph_bottom_left=(-400,-400), graph_top_right=(400, 400), background_color='red', key='graph')],]\n",
    "\n",
    "window = sg.Window('Zoom', layout, background_color='red', transparent_color='red', no_titlebar=True, alpha_channel=.5, grab_anywhere=True).Finalize()"
   ]
  },
  {
   "cell_type": "code",
   "execution_count": null,
   "metadata": {},
   "outputs": [],
   "source": [
    "window['graph'].DrawCircle((0,0), 150, fill_color='green',line_color='green')\n"
   ]
  },
  {
   "cell_type": "code",
   "execution_count": null,
   "metadata": {},
   "outputs": [],
   "source": [
    "window.close()"
   ]
  },
  {
   "cell_type": "code",
   "execution_count": 1,
   "metadata": {},
   "outputs": [
    {
     "name": "stdout",
     "output_type": "stream",
     "text": [
      "Monitor(x=0, y=0, width=1680, height=1050, width_mm=474, height_mm=296, name='\\\\\\\\.\\\\DISPLAY1', is_primary=True)\n"
     ]
    }
   ],
   "source": [
    "from screeninfo import get_monitors\n",
    "for m in get_monitors():\n",
    "    print(str(m))"
   ]
  },
  {
   "cell_type": "code",
   "execution_count": null,
   "metadata": {},
   "outputs": [],
   "source": [
    "pip install screeninfo"
   ]
  },
  {
   "cell_type": "code",
   "execution_count": 2,
   "metadata": {},
   "outputs": [],
   "source": [
    "import ctypes\n",
    "user32 = ctypes.windll.user32\n",
    "screensize = user32.GetSystemMetrics(78), user32.GetSystemMetrics(79)"
   ]
  },
  {
   "cell_type": "code",
   "execution_count": 4,
   "metadata": {},
   "outputs": [
    {
     "data": {
      "text/plain": [
       "1680"
      ]
     },
     "execution_count": 4,
     "metadata": {},
     "output_type": "execute_result"
    }
   ],
   "source": [
    "screensize[0]"
   ]
  },
  {
   "cell_type": "code",
   "execution_count": 5,
   "metadata": {},
   "outputs": [
    {
     "data": {
      "text/plain": [
       "array([{'pts3d': array([[ 6.10904842e-02, -2.30324937e-01,  1.05384441e+00],\n",
       "              [ 4.87950047e-02, -2.40192874e-01,  1.05506871e+00],\n",
       "              [ 3.32730791e-02, -2.45724076e-01,  1.05735521e+00],\n",
       "              [ 2.06098650e-02, -2.48699543e-01,  1.05904064e+00],\n",
       "              [ 1.12241577e-02, -2.50164230e-01,  1.06005214e+00],\n",
       "              [ 3.08805969e-02, -2.43490208e-01,  1.04933925e+00],\n",
       "              [ 1.51676426e-02, -2.44157424e-01,  1.04788966e+00],\n",
       "              [ 5.86760938e-03, -2.43411492e-01,  1.04713856e+00],\n",
       "              [-6.96585841e-04, -2.42275260e-01,  1.04621748e+00],\n",
       "              [ 3.23103507e-02, -2.38288994e-01,  1.04837063e+00],\n",
       "              [ 1.47143170e-02, -2.38803550e-01,  1.04553465e+00],\n",
       "              [ 3.38197941e-03, -2.38394622e-01,  1.04428282e+00],\n",
       "              [-5.16579010e-03, -2.37840709e-01,  1.04295811e+00],\n",
       "              [ 3.51620272e-02, -2.31351895e-01,  1.04775266e+00],\n",
       "              [ 1.72262790e-02, -2.31764753e-01,  1.04618743e+00],\n",
       "              [ 4.89311853e-03, -2.31210631e-01,  1.04525927e+00],\n",
       "              [-4.10439237e-03, -2.30891050e-01,  1.04464833e+00],\n",
       "              [ 3.91658637e-02, -2.23153186e-01,  1.04745192e+00],\n",
       "              [ 2.43858187e-02, -2.21597876e-01,  1.04677507e+00],\n",
       "              [ 1.42917048e-02, -2.20795044e-01,  1.04637613e+00],\n",
       "              [ 5.95583339e-03, -2.20010569e-01,  1.04570092e+00],\n",
       "              [ 6.99851955e-02, -2.26140356e-01,  1.05023901e+00],\n",
       "              [ 6.19404251e-02, -2.36090023e-01,  1.04933928e+00],\n",
       "              [ 5.10242191e-02, -2.41141026e-01,  1.05003505e+00],\n",
       "              [ 4.27843623e-02, -2.42100889e-01,  1.05032812e+00],\n",
       "              [ 3.75964459e-02, -2.40856861e-01,  1.04973414e+00],\n",
       "              [ 4.20348351e-02, -2.40775323e-01,  1.04488032e+00],\n",
       "              [ 2.56732025e-02, -2.43443102e-01,  1.04407625e+00],\n",
       "              [ 1.59160265e-02, -2.44138451e-01,  1.04357179e+00],\n",
       "              [ 8.71405944e-03, -2.44491101e-01,  1.04311174e+00],\n",
       "              [ 3.99390028e-02, -2.36484961e-01,  1.04547092e+00],\n",
       "              [ 1.99897808e-02, -2.38103939e-01,  1.04383831e+00],\n",
       "              [ 6.69703959e-03, -2.38455295e-01,  1.04333441e+00],\n",
       "              [-3.54425246e-03, -2.38360552e-01,  1.04263054e+00],\n",
       "              [ 4.01651473e-02, -2.30097686e-01,  1.04596563e+00],\n",
       "              [ 1.99830326e-02, -2.31452993e-01,  1.04546088e+00],\n",
       "              [ 6.28266402e-03, -2.31614637e-01,  1.04499280e+00],\n",
       "              [-4.05907701e-03, -2.31603859e-01,  1.04499643e+00],\n",
       "              [ 4.25241832e-02, -2.22147473e-01,  1.04627634e+00],\n",
       "              [ 2.60636297e-02, -2.21472344e-01,  1.04641506e+00],\n",
       "              [ 1.49522925e-02, -2.20908642e-01,  1.04632747e+00],\n",
       "              [ 5.94100828e-03, -2.20156969e-01,  1.04583690e+00],\n",
       "              [ 7.43479011e-02, -2.25426084e-01,  1.04786339e+00],\n",
       "              [ 7.24576014e-02, -2.34243321e-01,  1.04594718e+00],\n",
       "              [ 6.50702016e-02, -2.39985581e-01,  1.04503475e+00],\n",
       "              [ 5.96304136e-02, -2.42959693e-01,  1.04365512e+00],\n",
       "              [ 5.75235147e-02, -2.44036078e-01,  1.04204971e+00],\n",
       "              [ 4.24765297e-02, -2.40953216e-01,  1.04601036e+00],\n",
       "              [ 2.61745916e-02, -2.42148333e-01,  1.04486451e+00],\n",
       "              [ 1.57240599e-02, -2.42119235e-01,  1.04410313e+00],\n",
       "              [ 7.33921593e-03, -2.41579734e-01,  1.04341657e+00],\n",
       "              [ 3.88875011e-02, -2.37365462e-01,  1.04648389e+00],\n",
       "              [ 1.93700334e-02, -2.37618251e-01,  1.04452667e+00],\n",
       "              [ 6.03958995e-03, -2.37199347e-01,  1.04363190e+00],\n",
       "              [-4.20051059e-03, -2.36530067e-01,  1.04263788e+00],\n",
       "              [ 3.81722401e-02, -2.31738469e-01,  1.04716745e+00],\n",
       "              [ 1.82135954e-02, -2.32936852e-01,  1.04586851e+00],\n",
       "              [ 4.48643937e-03, -2.33379667e-01,  1.04563967e+00],\n",
       "              [-6.19827378e-03, -2.32950256e-01,  1.04493793e+00],\n",
       "              [ 4.02044424e-02, -2.24305083e-01,  1.04790504e+00],\n",
       "              [ 2.34688796e-02, -2.24621251e-01,  1.04750487e+00],\n",
       "              [ 1.21909532e-02, -2.24177872e-01,  1.04731557e+00],\n",
       "              [ 3.05243275e-03, -2.23036416e-01,  1.04662336e+00]])}        ],\n",
       "      dtype=object)"
      ]
     },
     "execution_count": 5,
     "metadata": {},
     "output_type": "execute_result"
    }
   ],
   "source": [
    "import numpy as np\n",
    "base=np.load(\"calibracion\\\\Calibracion_Vectores_xy_teclado_mouse.npy\",allow_pickle=True)\n",
    "base"
   ]
  },
  {
   "cell_type": "code",
   "execution_count": 3,
   "metadata": {},
   "outputs": [
    {
     "data": {
      "text/plain": [
       "array([[1, 2, 3],\n",
       "       [4, 5, 6]])"
      ]
     },
     "execution_count": 3,
     "metadata": {},
     "output_type": "execute_result"
    }
   ],
   "source": [
    "a=[1,2,3]\n",
    "b=[4,5,6]\n",
    "aa=np.array([a])\n",
    "bb=np.concatenate((aa, [b]), axis=0)\n",
    "bb"
   ]
  },
  {
   "cell_type": "code",
   "execution_count": 4,
   "metadata": {},
   "outputs": [
    {
     "data": {
      "text/plain": [
       "array([1, 2, 3])"
      ]
     },
     "execution_count": 4,
     "metadata": {},
     "output_type": "execute_result"
    }
   ],
   "source": [
    "bb[0]"
   ]
  },
  {
   "cell_type": "code",
   "execution_count": 5,
   "metadata": {},
   "outputs": [
    {
     "data": {
      "text/plain": [
       "array([[-0.32290576, -0.20518443,  1.23307894],\n",
       "       [-0.34947072, -0.22041309,  1.23901079],\n",
       "       [-0.36497712, -0.22222635,  1.23695848],\n",
       "       [-0.37620916, -0.21940687,  1.23472749],\n",
       "       [-0.3847066 , -0.21527221,  1.23312205],\n",
       "       [-0.38546794, -0.21804834,  1.23188669],\n",
       "       [-0.40189529, -0.21149807,  1.2285865 ],\n",
       "       [-0.40898078, -0.2061428 ,  1.22815051],\n",
       "       [-0.41288098, -0.20286094,  1.22881616],\n",
       "       [-0.38009326, -0.20617269,  1.22682192],\n",
       "       [-0.4010378 , -0.19741124,  1.22081454],\n",
       "       [-0.40964841, -0.19122127,  1.21848679],\n",
       "       [-0.41696896, -0.18694569,  1.21692434],\n",
       "       [-0.37081317, -0.19358265,  1.22205734],\n",
       "       [-0.39038264, -0.18629972,  1.21639249],\n",
       "       [-0.40150114, -0.18092967,  1.21400036],\n",
       "       [-0.40870729, -0.17733442,  1.21161255],\n",
       "       [-0.36087123, -0.18214359,  1.22013475],\n",
       "       [-0.37612598, -0.17463036,  1.21456155],\n",
       "       [-0.38621106, -0.17128343,  1.21213474],\n",
       "       [-0.39562575, -0.16855641,  1.21062327],\n",
       "       [-0.32365365, -0.2057764 ,  1.23380229],\n",
       "       [-0.34917208, -0.22120043,  1.23758762],\n",
       "       [-0.36459398, -0.22298738,  1.23367337],\n",
       "       [-0.37633883, -0.21940888,  1.22974095],\n",
       "       [-0.38354133, -0.21449784,  1.22747499],\n",
       "       [-0.38421264, -0.2193583 ,  1.23101232],\n",
       "       [-0.40037228, -0.21134491,  1.22580473],\n",
       "       [-0.40695925, -0.20465844,  1.22201386],\n",
       "       [-0.41036954, -0.19970248,  1.21982417],\n",
       "       [-0.37933526, -0.20712001,  1.22651889],\n",
       "       [-0.40046408, -0.19768911,  1.22100735],\n",
       "       [-0.40901592, -0.19075851,  1.21779236],\n",
       "       [-0.41630568, -0.18549143,  1.21568891],\n",
       "       [-0.3707393 , -0.19444091,  1.22294964],\n",
       "       [-0.39097161, -0.18641129,  1.21720669],\n",
       "       [-0.40196643, -0.1804288 ,  1.21447559],\n",
       "       [-0.40954748, -0.1758071 ,  1.2122379 ],\n",
       "       [-0.36061196, -0.18288688,  1.22129675],\n",
       "       [-0.37662691, -0.17520583,  1.21564657],\n",
       "       [-0.38700289, -0.17147859,  1.21311133],\n",
       "       [-0.3961909 , -0.16843372,  1.21139418],\n",
       "       [-0.3235963 , -0.20483161,  1.23352854],\n",
       "       [-0.34950595, -0.22285206,  1.23791399],\n",
       "       [-0.36854873, -0.22589856,  1.23515813],\n",
       "       [-0.38187763, -0.22056886,  1.23203968],\n",
       "       [-0.38846902, -0.21321903,  1.23019333],\n",
       "       [-0.38213535, -0.21885948,  1.23018769],\n",
       "       [-0.40072697, -0.21158684,  1.22763414],\n",
       "       [-0.40812445, -0.20541202,  1.22612334],\n",
       "       [-0.41121123, -0.19967951,  1.22508757],\n",
       "       [-0.37810511, -0.20645022,  1.22635162],\n",
       "       [-0.40004342, -0.19853472,  1.22137439],\n",
       "       [-0.41111406, -0.19180093,  1.21901077],\n",
       "       [-0.4176082 , -0.18548891,  1.21754087],\n",
       "       [-0.36962285, -0.19423065,  1.22312504],\n",
       "       [-0.39127294, -0.18661911,  1.21761265],\n",
       "       [-0.40180756, -0.18060822,  1.21437348],\n",
       "       [-0.40927122, -0.17513764,  1.21202489],\n",
       "       [-0.35759169, -0.18265081,  1.22065004],\n",
       "       [-0.37706932, -0.17600732,  1.21603528],\n",
       "       [-0.38725181, -0.1717476 ,  1.21312987],\n",
       "       [-0.39598518, -0.16813432,  1.21094908]])"
      ]
     },
     "execution_count": 5,
     "metadata": {},
     "output_type": "execute_result"
    }
   ],
   "source": [
    "base[0]['pts3d']"
   ]
  },
  {
   "cell_type": "code",
   "execution_count": null,
   "metadata": {},
   "outputs": [],
   "source": [
    "import plotly.graph_objects as go\n",
    "class Canvas_(FigureCanvas):\n",
    "    def __init__(self,DataProcess):\n",
    "        #self.parent=parent\n",
    "        self.DataProcess=DataProcess\n",
    "    def draw_(self):\n",
    "\n",
    "        try:\n",
    "        \n",
    "#        self.fig,self.ax=plt.subplots(1,dpi=100,figsize=(5,5),sharey=True,facecolor='white')\n",
    "            self.fig=go.Figure(data=[go.Scatter3d(x=self.DataProcess['cube_points'][:][0][0],y=self.DataProcess['cube_points'][:][1][0],z=self.DataProcess['cube_points'][:][2][0],\n",
    "            mode='markers',marker=dict(size=5,color='red',opacity=0.5))])\n",
    "            super().__init__(self.fig)\n",
    "            #self.setParent(self.parent)\n",
    "\n",
    "        # nombres=['15','2','3','4','5']\n",
    "        # colores=['red','blue','red','orange','green']\n",
    "        # tamaño=[10,15,20,25,30]\n",
    "        # self.ax.bar(nombres,tamaño,color=colores)\n",
    "        # self.fig.suptitle('Grafica',size=9)\n",
    "\n",
    "        \n",
    "            self.fig.update_layout(autosize=False,width=900,height=900)\n",
    "            self.fig.show()\n",
    "        except:\n",
    "            print(\"error draw()\")\n",
    "            pass"
   ]
  },
  {
   "cell_type": "code",
   "execution_count": 6,
   "metadata": {},
   "outputs": [
    {
     "name": "stdout",
     "output_type": "stream",
     "text": [
      "Looking in indexes: https://pypi.org/simple, https://pypi.ngc.nvidia.com\n",
      "Collecting PyQtWebEngine\n",
      "  Downloading PyQtWebEngine-5.15.5-cp36-abi3-win_amd64.whl (181 kB)\n",
      "     ------------------------------------- 181.1/181.1 KB 11.4 MB/s eta 0:00:00\n",
      "Requirement already satisfied: PyQt5>=5.15.4 in c:\\users\\david\\appdata\\local\\programs\\python\\python310\\lib\\site-packages (from PyQtWebEngine) (5.15.6)\n",
      "Requirement already satisfied: PyQt5-sip<13,>=12.8 in c:\\users\\david\\appdata\\local\\programs\\python\\python310\\lib\\site-packages (from PyQtWebEngine) (12.9.1)\n",
      "Collecting PyQtWebEngine-Qt5>=5.15.2\n",
      "  Downloading PyQtWebEngine_Qt5-5.15.2-py3-none-win_amd64.whl (60.0 MB)\n",
      "     --------------------------------------- 60.0/60.0 MB 43.7 MB/s eta 0:00:00\n",
      "Requirement already satisfied: PyQt5-Qt5>=5.15.2 in c:\\users\\david\\appdata\\local\\programs\\python\\python310\\lib\\site-packages (from PyQt5>=5.15.4->PyQtWebEngine) (5.15.2)\n",
      "Installing collected packages: PyQtWebEngine-Qt5, PyQtWebEngine\n",
      "Successfully installed PyQtWebEngine-5.15.5 PyQtWebEngine-Qt5-5.15.2\n",
      "Note: you may need to restart the kernel to use updated packages.\n"
     ]
    }
   ],
   "source": [
    "pip install PyQtWebEngine"
   ]
  }
 ],
 "metadata": {
  "kernelspec": {
   "display_name": "Python 3.10.1 64-bit",
   "language": "python",
   "name": "python3"
  },
  "language_info": {
   "codemirror_mode": {
    "name": "ipython",
    "version": 3
   },
   "file_extension": ".py",
   "mimetype": "text/x-python",
   "name": "python",
   "nbconvert_exporter": "python",
   "pygments_lexer": "ipython3",
   "version": "3.10.1"
  },
  "orig_nbformat": 4,
  "vscode": {
   "interpreter": {
    "hash": "901b79e026e03396fd1ffa7133844e9ea80e258ce34c66e1aabb5896bcb18463"
   }
  }
 },
 "nbformat": 4,
 "nbformat_minor": 2
}
